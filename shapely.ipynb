{
 "cells": [
  {
   "cell_type": "markdown",
   "id": "c9a0b781",
   "metadata": {},
   "source": [
    "# Muon Chamber Geometry Basics"
   ]
  },
  {
   "cell_type": "markdown",
   "id": "176f3ab7",
   "metadata": {},
   "source": [
    "The `mchgeo` Python package offers a minimal interface to access some basic information about the CERN Alice Muon Chamber (aka MCH) geometry.\n",
    "\n",
    "In order to ease interoperability with other packages (plotting for instance), the internal representation of the geometry offered by this package is in [GeoJSON](https://geojson.org) format."
   ]
  },
  {
   "cell_type": "markdown",
   "id": "d89fbf1e",
   "metadata": {},
   "source": [
    "The first thing to realize is that MCH is composed of 156 detection elements (one detection element being a cathode pad chamber).\n"
   ]
  },
  {
   "cell_type": "code",
   "execution_count": 24,
   "id": "53f39003-6844-49f6-a06e-e9f4916b6d2a",
   "metadata": {},
   "outputs": [
    {
     "data": {
      "text/plain": [
       "156"
      ]
     },
     "execution_count": 24,
     "metadata": {},
     "output_type": "execute_result"
    }
   ],
   "source": [
    "import mchgeo\n",
    "deids=mchgeo.LIST_OF_DEIDS\n",
    "len(deids)"
   ]
  },
  {
   "cell_type": "markdown",
   "id": "102344dc",
   "metadata": {},
   "source": [
    "The 156 detection elements are organised in 5 stations of 2 chambers each. \n",
    "Each detection element has an integer ID. That detection element ID `deid` encodes the chamber number, from 1 to 10 : \n",
    "\n",
    "```\n",
    "chamberId = deid / 100\n",
    "```"
   ]
  },
  {
   "cell_type": "code",
   "execution_count": 25,
   "id": "1337ca00",
   "metadata": {},
   "outputs": [
    {
     "name": "stdout",
     "output_type": "stream",
     "text": [
      "{1, 2, 3, 4, 5, 6, 7, 8, 9, 10}\n"
     ]
    }
   ],
   "source": [
    "chamber_ids = set([deid // 100 for deid in deids])\n",
    "print(chamber_ids)"
   ]
  },
  {
   "cell_type": "markdown",
   "id": "fd7ba040",
   "metadata": {},
   "source": [
    "Chamber 1 is the closest (in z direction) from the interaction point (about 5.26 meters), and chamber 10 the farthest (14.45 meters)."
   ]
  },
  {
   "cell_type": "markdown",
   "id": "9a92a270",
   "metadata": {},
   "source": [
    "For each detection element `mchgeo` gives you access to two kinds of information : \n",
    "- its basic 2D shape (a polygon)\n",
    "- the global transformation (translation + rotation) that must be applied to position it in space"
   ]
  },
  {
   "cell_type": "markdown",
   "id": "aedc8598",
   "metadata": {},
   "source": [
    "## Polygons"
   ]
  },
  {
   "cell_type": "markdown",
   "id": "ded04c16",
   "metadata": {},
   "source": [
    "Given some `deid` you can get the polygon describing the outline of the corresponding detection element, within its reference plane (i.e. the polygon is 2D) "
   ]
  },
  {
   "cell_type": "code",
   "execution_count": 56,
   "id": "184dc85b-907a-4064-b636-c15a4e8496d2",
   "metadata": {},
   "outputs": [
    {
     "name": "stdout",
     "output_type": "stream",
     "text": [
      "<class 'dict'> {'type': 'Polygon', 'coordinates': [[[-75, 20], [80, 20], [80, -6.5], [77.5, -6.5], [77.5, -7], [75, -7], [75, -7.5], [72.5, -7.5], [72.5, -8], [70, -8], [70, -8.5], [67.5, -8.5], [67.5, -10], [65, -10], [65, -11], [62.5, -11], [62.5, -13], [60, -13], [60, -15], [57.5, -15], [57.5, -17.5], [55, -17.5], [55, -20], [-75, -20], [-75, 20]]]}\n",
      "<class 'list'>\n",
      "<class 'list'>\n"
     ]
    }
   ],
   "source": [
    "pol=mchgeo.polygon(508)\n",
    "print(type(pol),pol)\n",
    "print(type(pol[\"coordinates\"]))\n",
    "print(type(pol[\"coordinates\"][0]))"
   ]
  },
  {
   "cell_type": "markdown",
   "id": "fb20cf69",
   "metadata": {},
   "source": [
    "Note that the `coordinates` key of the `pol` dictionary is a list of lists. That is to comply with the GeoJSON format where a polygon is described by potentially several line rings : the first (mandatory) one for the exterior and zero or more for interior holes. In the case of detection elements, we have no holes, only the exterior boundary, but we still keep the GeoJSON nesting, which explains the (probably) strange structure of the `coordinates` list."
   ]
  },
  {
   "cell_type": "markdown",
   "id": "94e5450c",
   "metadata": {},
   "source": [
    "Plotting such a polygon is made easy thanks to the [shapely](https://shapely.readthedocs.io/en/stable/index.html) Python package. \n",
    "\n",
    "You first have to convert the polygon dict to a proper JSON Shape using the `shape` function : "
   ]
  },
  {
   "cell_type": "code",
   "execution_count": 57,
   "id": "7c9df217",
   "metadata": {},
   "outputs": [
    {
     "name": "stdout",
     "output_type": "stream",
     "text": [
      "POLYGON ((-75 20, 80 20, 80 -6.5, 77.5 -6.5, 77.5 -7, 75 -7, 75 -7.5, 72.5 -7.5, 72.5 -8, 70 -8, 70 -8.5, 67.5 -8.5, 67.5 -10, 65 -10, 65 -11, 62.5 -11, 62.5 -13, 60 -13, 60 -15, 57.5 -15, 57.5 -17.5, 55 -17.5, 55 -20, -75 -20, -75 20))\n"
     ]
    }
   ],
   "source": [
    "from shapely.geometry import shape\n",
    "de = shape(pol)\n",
    "print(de)"
   ]
  },
  {
   "cell_type": "markdown",
   "id": "4701610f",
   "metadata": {},
   "source": [
    "And then using e.g. `matplotlib` the shape can be displayed"
   ]
  },
  {
   "cell_type": "code",
   "execution_count": 58,
   "id": "6195ec04-1c99-44d7-8b83-8efd9f552a10",
   "metadata": {},
   "outputs": [
    {
     "data": {
      "image/png": "[encoded data removed]",
      "text/plain": [
       "<Figure size 432x288 with 1 Axes>"
      ]
     },
     "metadata": {
      "needs_background": "light"
     },
     "output_type": "display_data"
    }
   ],
   "source": [
    "import matplotlib.pyplot as plt\n",
    "fig,axes=plt.subplots()\n",
    "axes.plot(*de.exterior.xy,color=\"orange\")\n",
    "axes.set_aspect('equal')"
   ]
  },
  {
   "cell_type": "markdown",
   "id": "8c040c1e",
   "metadata": {},
   "source": [
    "## Transformations"
   ]
  },
  {
   "cell_type": "markdown",
   "id": "0b359342",
   "metadata": {},
   "source": [
    "The second piece of information about each detection element, besides its polygonal shape, is the global transformation to position it in 3D space. To apply those transformations, we'll get some help from the `scikit.spatial` package which provides convenient functions to create rotation matrices using different conventions. In the transformation objet the convention used is that of [Tait-Bryan angles](https://en.wikipedia.org/wiki/Euler_angles#Tait–Bryan_angles), sometimes called yaw, pitch and roll."
   ]
  },
  {
   "cell_type": "code",
   "execution_count": 59,
   "id": "c56857e6",
   "metadata": {},
   "outputs": [
    {
     "name": "stdout",
     "output_type": "stream",
     "text": [
      "{'tx': 81.25, 'ty': -0.05197011713870941, 'tz': -955.7503840774286, 'yaw': -180, 'pitch': 0, 'roll': 179.20600000000002}\n"
     ]
    }
   ],
   "source": [
    "print(mchgeo.transformation(500))"
   ]
  },
  {
   "cell_type": "code",
   "execution_count": 60,
   "id": "10903d92",
   "metadata": {},
   "outputs": [],
   "source": [
    "import scipy.spatial\n",
    "import numpy as np\n",
    "import shapely\n",
    "\n",
    "def de_color(deid:int):\n",
    "\tindex=deid%100\n",
    "\tcolors={0:\"lightcoral\",1:\"firebrick\",2:\"red\",3:\"coral\",\n",
    "\t4:\"chocolate\",5:\"sandybrown\",6:\"peru\",7:\"darkorange\",\n",
    "\t8:\"tan\",9:\"gold\",10:\"darkkhaki\",11:\"olive\",12:\"darkolivegreen\",\n",
    "\t13:\"yellowgreen\",14:\"chartreuse\",15:\"darkseagreen\",16:\"green\",\n",
    "\t17:\"mediumseagreen\",18:\"turquoise\",19:\"teal\",20:\"cyan\",\n",
    "\t21:\"deepskyblue\",22:\"slategrey\",23:\"navy\",24:\"slateblue\",\n",
    "\t25:\"blueviolet\"}\n",
    "\treturn colors.get(index,\"black\")\n",
    "\n",
    "\n",
    "def plot_chamber(chamberid:int,axes):\n",
    "\tassert (chamberid in range(1,11)), \"{} is not a valid chamber id\".format(chamberid)\n",
    "\tdeids=[deid for deid in mchgeo.LIST_OF_DEIDS if deid//100==chamberid]\n",
    "\tfor deid in deids:\n",
    "\t\t# get a Shapely shape object from the polygon JSON representation of that detection element\n",
    "\t\tde_shape=shape(mchgeo.polygon(deid))\n",
    "\t\t# get the transformation (translation+rolation) of that detection element\n",
    "\t\ttransform = mchgeo.transformation(deid)\n",
    "\t\t# create a rotation matrix from he transformation Tait-Bryan angles yaw, pitch, roll\n",
    "\t\t# rotations are made in the z-y-x order and are intrinsic ones (hence the lower case zyx)\n",
    "\t\t# yaw is around z, pitch around y and roll around x\n",
    "\t\trot_matrix=scipy.spatial.transform.Rotation.from_euler('zyx',[transform[\"yaw\"],transform[\"pitch\"],transform[\"roll\"]],degrees=True).as_matrix()\n",
    "\t\t# get the translation part of the transformation\n",
    "\t\ttranslation=np.array([transform[\"tx\"],transform[\"ty\"],transform[\"tz\"]])\n",
    "\t\t# combine rotation and translation into a vector of size 12 that is required by the affine_transform function\n",
    "\t\tmatrix=np.concatenate([rot_matrix.flatten(),translation])\n",
    "\t\t# finally apply the transformation to the detection element shape\n",
    "\t\tde = shapely.affinity.affine_transform(de_shape, matrix)\n",
    "\t\t# and plot that shape (which is now properly placed in 3D space) in 2D\n",
    "\t\taxes.plot(*de.exterior.xy,color=de_color(deid))"
   ]
  },
  {
   "cell_type": "code",
   "execution_count": 61,
   "id": "67a29fa4",
   "metadata": {},
   "outputs": [
    {
     "data": {
      "image/png": "[encoded data removed]",
      "text/plain": [
       "<Figure size 720x360 with 3 Axes>"
      ]
     },
     "metadata": {
      "needs_background": "light"
     },
     "output_type": "display_data"
    }
   ],
   "source": [
    "fig,axes=plt.subplots(1,3)\n",
    "fig.set_size_inches((10,5))\n",
    "chambers=[1,5,10]\n",
    "for i in range(3):\n",
    "\tchamber_id=chambers[i]\n",
    "\taxes[i].set_aspect('equal',adjustable='datalim')\n",
    "\taxes[i].set(xlim=(-250,250))\n",
    "\tplot_chamber(chamber_id,axes[i])\n",
    "\taxes[i].set_title(\"chamber {}\".format(chamber_id))"
   ]
  },
  {
   "cell_type": "markdown",
   "id": "cf864415",
   "metadata": {},
   "source": [
    "Note that there are some overlaps between the detection elements. That is not a plotting error : in the real detector there are indeed some overlaps in the vertical direction to avoid efficiency gaps at the detection element edges. Of course the detection element, being physical objects, can not overlap: : they are separated in the `z` direction by a few centimeters in order to get some clearance. \n",
    "Note also how chambers are bigger when they are farther away from the interaction point"
   ]
  }
 ],
 "metadata": {
  "kernelspec": {
   "display_name": "Python 3 (ipykernel)",
   "language": "python",
   "name": "python3"
  },
  "language_info": {
   "codemirror_mode": {
    "name": "ipython",
    "version": 3
   },
   "file_extension": ".py",
   "mimetype": "text/x-python",
   "name": "python",
   "nbconvert_exporter": "python",
   "pygments_lexer": "ipython3",
   "version": "3.8.9"
  }
 },
 "nbformat": 4,
 "nbformat_minor": 5
}
